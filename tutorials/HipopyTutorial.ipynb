{
 "cells": [
  {
   "cell_type": "markdown",
   "id": "48d6d664-6b98-4c36-9286-457849fae160",
   "metadata": {},
   "source": [
    "<a target=\"_blank\" href=\"https://colab.research.google.com/github/mfmceneaney/hipopy/blob/main/tutorials/HipopyTutorial.ipynb\">\n",
    "  <img src=\"https://colab.research.google.com/assets/colab-badge.svg\" alt=\"Open In Colab\"/>\n",
    "</a>"
   ]
  },
  {
   "cell_type": "code",
   "execution_count": 1,
   "id": "6a58d577-9f70-4684-a9e4-23409b7bbbcc",
   "metadata": {},
   "outputs": [
    {
     "name": "stdout",
     "output_type": "stream",
     "text": [
      "Requirement already satisfied: hipopy in /usr/local/lib/python3.11/site-packages (1.2.4)\n",
      "Requirement already satisfied: awkward<2.0.0,>=1.3.0 in /usr/local/lib/python3.11/site-packages (from hipopy) (1.10.5)\n",
      "Requirement already satisfied: hipopybind>=0.1.1 in /usr/local/lib/python3.11/site-packages (from hipopy) (0.1.1)\n",
      "Requirement already satisfied: numpy<2.0.0,>=1.19.2 in /usr/local/lib/python3.11/site-packages (from hipopy) (1.25.2)\n",
      "Requirement already satisfied: packaging in /usr/local/lib/python3.11/site-packages (from awkward<2.0.0,>=1.3.0->hipopy) (23.1)\n"
     ]
    }
   ],
   "source": [
    "!pip install hipopy"
   ]
  },
  {
   "cell_type": "code",
   "execution_count": 2,
   "id": "dd24788f-7660-4fd3-b2fc-c4eea731301c",
   "metadata": {},
   "outputs": [],
   "source": [
    "import hipopy.hipopy as hp\n",
    "import numpy as np\n",
    "import awkward as ak"
   ]
  },
  {
   "cell_type": "code",
   "execution_count": 3,
   "id": "84e74ddb-51c0-44b5-8635-31c73b3b32fb",
   "metadata": {},
   "outputs": [],
   "source": [
    "#----- Write a file -----#\n",
    "filename = 'new.hipo'\n",
    "bank     = \"NEW::bank\"\n",
    "dtypes   = [\"D\",\"D\",\"D\",\"I\"] #NOTE: dtype can be \"D\": double, \"F\": float, \"S\": short, \"I\": int, \"L\": long\n",
    "names    = [\"px\",\"py\",\"pz\",\"pid\"]\n",
    "namesAndTypes = {names[i]:dtypes[i] for i in range(len(names))}\n",
    "\n",
    "# Open file\n",
    "file = hp.create(filename)\n",
    "file.newTree(bank,namesAndTypes)\n",
    "file.open() # IMPORTANT: Open AFTER calling newTree, otherwise the banks will not be written."
   ]
  },
  {
   "cell_type": "code",
   "execution_count": 4,
   "id": "312c6dd1-55d6-4727-a5a6-6d799ea2784a",
   "metadata": {},
   "outputs": [
    {
     "name": "stdout",
     "output_type": "stream",
     "text": [
      "-rw-r--r--  1 mfm45  staff    11K Apr 17 14:08 new.hipo\n"
     ]
    }
   ],
   "source": [
    "#----- Write a file -----#\n",
    "rows = 7 # Chooose a #\n",
    "nbatches = 10 # Choose a #\n",
    "step = 5 # Choose a # (events per batch)\n",
    "maxpid = 200 # Choose a #\n",
    "\n",
    "# Write batches of events to file\n",
    "for _ in range(nbatches):\n",
    "\n",
    "    # Create toy data\n",
    "    moms = np.random.random(size=(step,len(names)-1,rows))\n",
    "    pids = np.random.randint(maxpid,size=(step,1,rows))\n",
    "    data = [[moms[i,j].tolist() if j<len(names)-1 else pids[i,0].tolist() for j in range(len(names))] for i in range(step)]\n",
    "\n",
    "    # Write to file\n",
    "    file.extend({\n",
    "        bank : data #NOTE: data must have shape (nEvents,nNames,nRows)\n",
    "    })\n",
    "\n",
    "# Close file\n",
    "file.close() # Can also use file.write()\n",
    "\n",
    "!ls -lrth $filename"
   ]
  },
  {
   "cell_type": "code",
   "execution_count": 5,
   "id": "c6e8e053-3039-4a15-8385-ed815e9618e7",
   "metadata": {},
   "outputs": [],
   "source": [
    "#----- Add a new bank to an existing file -----#\n",
    "filename = \"new.hipo\" # Recreate this in your $PWD\n",
    "bank     = \"NEW::bank2\"\n",
    "dtype    = \"D\" #NOTE: For now all the bank entries have to have the same type.\n",
    "names    = [\"energy\",\"mass\"]\n",
    "namesAndTypes = {e:dtype for e in names}\n",
    "\n",
    "# Open the file\n",
    "file = hp.recreate(filename)\n",
    "file.newTree(bank,namesAndTypes)\n",
    "file.open() # IMPORTANT!  Open AFTER calling newTree, otherwise the banks will not be written!"
   ]
  },
  {
   "cell_type": "code",
   "execution_count": 6,
   "id": "d942fd09-e862-4ed9-b363-82203fd346b9",
   "metadata": {},
   "outputs": [
    {
     "name": "stdout",
     "output_type": "stream",
     "text": [
      "-rw-r--r--  1 mfm45  staff    17K Apr 17 14:08 new.hipo\n"
     ]
    }
   ],
   "source": [
    "#----- Add a new bank to an existing file -----#\n",
    "rows = 7 # Chooose a #\n",
    "nbatches = 10 # Choose a #\n",
    "step = 5 # Choose a #\n",
    "\n",
    "# Write events to file\n",
    "for _ in range(nbatches):\n",
    "   data = np.random.random(size=(step,len(names),rows))\n",
    "   file.extend({\n",
    "      bank : data\n",
    "   })\n",
    "\n",
    "# Close the file\n",
    "file.close() #IMPORTANT! ( Can also use file.write() )\n",
    "\n",
    "!ls -lrth $filename"
   ]
  },
  {
   "cell_type": "code",
   "execution_count": 7,
   "id": "63081b96-ba3a-48fc-a5f6-97e3d8a04f66",
   "metadata": {},
   "outputs": [
    {
     "name": "stdout",
     "output_type": "stream",
     "text": [
      "Dictionary :\n",
      "\tSchema : name = NEW::bank , schemaString = {NEW::bank/1/1}{px/D,py/D,pz/D,pid/I}\n",
      "\tSchema : name = NEW::bank2 , schemaString = {NEW::bank2/2/1}{energy/D,mass/D}\n",
      "\n",
      "Schema : name = NEW::bank , schemaString = {NEW::bank/1/1}{px/D,py/D,pz/D,pid/I}\n",
      "\n"
     ]
    }
   ],
   "source": [
    "#----- Read a single file -----#\n",
    "filename = 'new.hipo'\n",
    "bank = \"NEW::bank\"\n",
    "\n",
    "file = hp.open(filename,mode=\"r\")\n",
    "file.show()\n",
    "file.showBank(bank)\n",
    "file.readBank(bank) #IMPORTANT! Call readBank BEFORE you loop through the file."
   ]
  },
  {
   "cell_type": "code",
   "execution_count": 8,
   "id": "198a0a88-3946-484b-8741-0cecc7a11162",
   "metadata": {},
   "outputs": [
    {
     "name": "stdout",
     "output_type": "stream",
     "text": [
      "counter         =  0\n",
      "event.keys()    =  dict_keys(['NEW::bank_px', 'NEW::bank_py', 'NEW::bank_pz', 'NEW::bank_pid', 'NEW::bank2_energy', 'NEW::bank2_mass'])\n",
      "event[NEW::bank_px] =  [[0.4435988302161542, 0.34144865816041237, 0.6448050690804019, 0.49493386861115085, 0.6244117275542378, 0.966861520475238, 0.22724438829627225]]\n",
      "event[NEW::bank_pid] =  [[103, 197, 177, 132, 87, 25, 88]]\n",
      "type(event[NEW::bank_px][0][0]) =  <class 'float'>\n",
      "type(event[NEW::bank_pid][0][0]) =  <class 'int'>\n",
      "file.getDoubles(\"NEW::bank\",\"px\") =  [0.4435988302161542, 0.34144865816041237, 0.6448050690804019, 0.49493386861115085, 0.6244117275542378, 0.966861520475238, 0.22724438829627225]\n",
      "file.getInts(\"NEW::bank\",\"pid\") =  [103, 197, 177, 132, 87, 25, 88]\n"
     ]
    }
   ],
   "source": [
    "#----- Read a single file -----#\n",
    "item1 = \"px\"\n",
    "item2 = \"pid\"\n",
    "nevents = 1\n",
    "\n",
    "# Loop through events in file\n",
    "for counter, event in enumerate(file):\n",
    "    data1 = file.getDoubles(bank,item1)\n",
    "    data2 = file.getInts(bank,item2)\n",
    "    print(\"counter         = \",counter)\n",
    "    print(\"event.keys()    = \",event.keys())\n",
    "    print(\"event[\"+bank+\"_\"+item1+\"] = \",event[bank+\"_\"+item1])\n",
    "    print(\"event[\"+bank+\"_\"+item2+\"] = \",event[bank+\"_\"+item2])\n",
    "    print(\"type(event[\"+bank+\"_\"+item1+\"][0][0]) = \",type(event[bank+\"_\"+item1][0][0]))\n",
    "    print(\"type(event[\"+bank+\"_\"+item2+\"][0][0]) = \",type(event[bank+\"_\"+item2][0][0]))\n",
    "    print(\"file.getDoubles(\\\"\"+bank+\"\\\",\\\"\"+item1+\"\\\") = \",data1)\n",
    "    print(\"file.getInts(\\\"\"+bank+\"\\\",\\\"\"+item2+\"\\\") = \",data2)\n",
    "    if counter == nevents-1: break"
   ]
  },
  {
   "cell_type": "code",
   "execution_count": 9,
   "id": "f3fcb02a-9937-46ba-8d64-7659973567a0",
   "metadata": {},
   "outputs": [
    {
     "name": "stdout",
     "output_type": "stream",
     "text": [
      "-rw-r--r--  1 mfm45  staff    17K Apr 17 14:08 new.hipo\n",
      "-rw-r--r--  1 mfm45  staff    11K Apr 17 14:08 new2.hipo\n"
     ]
    }
   ],
   "source": [
    "#----- Write another file -----#\n",
    "filename2 = 'new2.hipo'\n",
    "bank     = \"NEW::bank\"\n",
    "dtypes   = [\"D\",\"D\",\"D\",\"I\"] #NOTE: dtype can be \"D\": double, \"F\": float, \"S\": short, \"I\": int, \"L\": long\n",
    "names    = [\"px\",\"py\",\"pz\",\"pid\"]\n",
    "namesAndTypes = {names[i]:dtypes[i] for i in range(len(names))}\n",
    "rows = 7 # Chooose a #\n",
    "nbatches = 10 # Choose a #\n",
    "step = 5 # Choose a # (events per batch)\n",
    "maxpid = 200 # Choose a #\n",
    "\n",
    "# Open file\n",
    "file = hp.create(filename2)\n",
    "file.newTree(bank,namesAndTypes)\n",
    "file.open() # IMPORTANT:  Open AFTER calling newTree, otherwise the banks will not be written!\n",
    "\n",
    "# Write batches of events to file\n",
    "for _ in range(nbatches):\n",
    "\n",
    "    # Create toy data\n",
    "    moms = np.random.random(size=(step,len(names)-1,rows))\n",
    "    pids = np.random.randint(maxpid,size=(step,1,rows))\n",
    "    data = [[moms[i,j].tolist() if j<len(names)-1 else pids[i,0].tolist() for j in range(len(names))] for i in range(step)]\n",
    "    \n",
    "    file.extend({\n",
    "        bank : data #NOTE: data must have shape (nEvents,nNames,nRows)\n",
    "    })\n",
    "\n",
    "# Close file\n",
    "file.close() # Can also use file.write()\n",
    "\n",
    "!ls -lrth *.hipo"
   ]
  },
  {
   "cell_type": "code",
   "execution_count": 10,
   "id": "a03af9f5-ad96-4841-9325-c3a775991b48",
   "metadata": {},
   "outputs": [
    {
     "name": "stdout",
     "output_type": "stream",
     "text": [
      "dict_keys(['NEW::bank_px', 'NEW::bank_py', 'NEW::bank_pz', 'NEW::bank_pid'])\n",
      "[[0.444, 0.341, 0.645, 0.495, 0.624, 0.967, ... 0.874, 0.604, 0.222, 0.41, 0.582]]\n",
      "(50, 7)\n",
      "dict_keys(['NEW::bank_px', 'NEW::bank_py', 'NEW::bank_pz', 'NEW::bank_pid'])\n",
      "[[0.74, 0.319, 0.607, 0.0102, 0.0968, 0.573, ... 0.0938, 0.264, 0.4, 0.17, 0.665]]\n",
      "(50, 7)\n"
     ]
    }
   ],
   "source": [
    "#----- Iterate a set of files -----#\n",
    "filenames = ['*.hipo']\n",
    "banks = [\"NEW::bank\"]\n",
    "counter = 0\n",
    "step = 100\n",
    "\n",
    "# Loop through batches of step # events in the chain.\n",
    "for batch in hp.iterate(filenames,banks,step=step): # If you don't specify banks, ALL banks will be read.\n",
    "    print(batch.keys()) # Keys are <bank>_<entry>\n",
    "    if \"NEW::bank_px\" in batch: \n",
    "        data = ak.Array(batch[\"NEW::bank_px\"])\n",
    "        print(data)\n",
    "        print(np.shape(data))\n",
    "    counter += 1\n",
    "    if counter % step == 0: print(\"counter = \",counter)"
   ]
  },
  {
   "cell_type": "code",
   "execution_count": null,
   "id": "779b28fd-e0e6-4fd9-94d5-5a737669d9a6",
   "metadata": {},
   "outputs": [],
   "source": []
  }
 ],
 "metadata": {
  "kernelspec": {
   "display_name": "Python 3 (ipykernel)",
   "language": "python",
   "name": "python3"
  },
  "language_info": {
   "codemirror_mode": {
    "name": "ipython",
    "version": 3
   },
   "file_extension": ".py",
   "mimetype": "text/x-python",
   "name": "python",
   "nbconvert_exporter": "python",
   "pygments_lexer": "ipython3",
   "version": "3.11.5"
  }
 },
 "nbformat": 4,
 "nbformat_minor": 5
}
